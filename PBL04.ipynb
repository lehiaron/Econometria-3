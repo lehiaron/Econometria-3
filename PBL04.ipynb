{
 "cells": [
  {
   "cell_type": "code",
   "execution_count": 15,
   "metadata": {},
   "outputs": [
    {
     "name": "stdout",
     "output_type": "stream",
     "text": [
      "Resultados do Modelo de Efeitos Fixos:\n",
      "                          PanelOLS Estimation Summary                           \n",
      "================================================================================\n",
      "Dep. Variable:               EARNINGS   R-squared:                        0.0236\n",
      "Estimator:                   PanelOLS   R-squared (Between):              0.6479\n",
      "No. Observations:               24508   R-squared (Within):              -0.0461\n",
      "Date:                Thu, Mar 13 2025   R-squared (Overall):              0.6066\n",
      "Time:                        10:31:57   Log-likelihood                -7.481e+04\n",
      "Cov. Estimator:            Unadjusted                                           \n",
      "                                        F-statistic:                      96.839\n",
      "Entities:                        4486   P-value                           0.0000\n",
      "Avg Obs:                       5.4632   Distribution:                 F(5,20008)\n",
      "Min Obs:                       1.0000                                           \n",
      "Max Obs:                      10.0000   F-statistic (robust):             96.839\n",
      "                                        P-value                           0.0000\n",
      "Time periods:                      10   Distribution:                 F(5,20008)\n",
      "Avg Obs:                       2450.8                                           \n",
      "Min Obs:                       1573.0                                           \n",
      "Max Obs:                       2736.0                                           \n",
      "                                                                                \n",
      "                             Parameter Estimates                              \n",
      "==============================================================================\n",
      "            Parameter  Std. Err.     T-stat    P-value    Lower CI    Upper CI\n",
      "------------------------------------------------------------------------------\n",
      "UNION          0.8626     0.2031     4.2463     0.0000      0.4644      1.2607\n",
      "S              0.8400     0.1256     6.6892     0.0000      0.5939      1.0862\n",
      "HOURS         -0.0915     0.0066    -13.792     0.0000     -0.1045     -0.0785\n",
      "EXP            1.0995     0.0742     14.823     0.0000      0.9541      1.2449\n",
      "TENURE         0.0182     0.0169     1.0817     0.2794     -0.0148      0.0513\n",
      "==============================================================================\n",
      "\n",
      "F-test for Poolability: 6.5119\n",
      "P-value: 0.0000\n",
      "Distribution: F(4494,20008)\n",
      "\n",
      "Included effects: Entity, Time\n"
     ]
    }
   ],
   "source": [
    "import pandas as pd\n",
    "import statsmodels.formula.api as smf\n",
    "from linearmodels.panel import PanelOLS\n",
    "\n",
    "# Carregar a base\n",
    "df = pd.read_stata(\"Base1.dta\")\n",
    "\n",
    "# Definir variáveis de interesse\n",
    "vars_interesse = [\"EARNINGS\", \"UNION\", \"AGE\", \"S\", \"HOURS\", \"EXP\", \"MALE\", \"ID\", \"TIME\", \"TENURE\"]\n",
    "df = df.dropna(subset=vars_interesse)\n",
    "\n",
    "# Definir ID e Tempo como MultiIndex\n",
    "df = df.set_index([\"ID\", \"TIME\"])\n",
    "\n",
    "# Construir a fórmula sem incluir ID e Tempo explicitamente\n",
    "base_vars = [ \"UNION\", \"S\", \"HOURS\", \"EXP\", \"TENURE\"]  # Removendo variáveis absorvidas\n",
    "formula_fe = \"EARNINGS ~ \" + \" + \".join(base_vars) + \" + EntityEffects + TimeEffects\"\n",
    "\n",
    "# Estimar o modelo de Efeitos Fixos\n",
    "fe_model = PanelOLS.from_formula(formula_fe, data=df).fit()\n",
    "\n",
    "# Exibir os resultados\n",
    "print(\"Resultados do Modelo de Efeitos Fixos:\")\n",
    "print(fe_model.summary)\n"
   ]
  }
 ],
 "metadata": {
  "kernelspec": {
   "display_name": "base",
   "language": "python",
   "name": "python3"
  },
  "language_info": {
   "codemirror_mode": {
    "name": "ipython",
    "version": 3
   },
   "file_extension": ".py",
   "mimetype": "text/x-python",
   "name": "python",
   "nbconvert_exporter": "python",
   "pygments_lexer": "ipython3",
   "version": "3.12.7"
  }
 },
 "nbformat": 4,
 "nbformat_minor": 2
}
